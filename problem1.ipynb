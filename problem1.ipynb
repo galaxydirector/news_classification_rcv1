{
 "cells": [
  {
   "cell_type": "code",
   "execution_count": 2,
   "metadata": {},
   "outputs": [
    {
     "name": "stderr",
     "output_type": "stream",
     "text": [
      "Downloading https://ndownloader.figshare.com/files/5976069\n",
      "Downloading https://ndownloader.figshare.com/files/5976066\n",
      "Downloading https://ndownloader.figshare.com/files/5976063\n",
      "Downloading https://ndownloader.figshare.com/files/5976060\n",
      "Downloading https://ndownloader.figshare.com/files/5976057\n",
      "Downloading https://ndownloader.figshare.com/files/5976048\n"
     ]
    }
   ],
   "source": [
    "from sklearn.datasets import fetch_rcv1\n",
    "from scipy import sparse\n",
    "import numpy as np\n",
    "rcv1 = fetch_rcv1()"
   ]
  },
  {
   "cell_type": "code",
   "execution_count": 3,
   "metadata": {},
   "outputs": [
    {
     "data": {
      "text/plain": [
       "{'data': <804414x47236 sparse matrix of type '<class 'numpy.float64'>'\n",
       " \twith 60915113 stored elements in Compressed Sparse Row format>,\n",
       " 'target': <804414x103 sparse matrix of type '<class 'numpy.uint8'>'\n",
       " \twith 2606875 stored elements in Compressed Sparse Row format>,\n",
       " 'sample_id': array([  2286,   2287,   2288, ..., 810594, 810595, 810596], dtype=uint32),\n",
       " 'target_names': array(['C11', 'C12', 'C13', 'C14', 'C15', 'C151', 'C1511', 'C152', 'C16',\n",
       "        'C17', 'C171', 'C172', 'C173', 'C174', 'C18', 'C181', 'C182',\n",
       "        'C183', 'C21', 'C22', 'C23', 'C24', 'C31', 'C311', 'C312', 'C313',\n",
       "        'C32', 'C33', 'C331', 'C34', 'C41', 'C411', 'C42', 'CCAT', 'E11',\n",
       "        'E12', 'E121', 'E13', 'E131', 'E132', 'E14', 'E141', 'E142',\n",
       "        'E143', 'E21', 'E211', 'E212', 'E31', 'E311', 'E312', 'E313',\n",
       "        'E41', 'E411', 'E51', 'E511', 'E512', 'E513', 'E61', 'E71', 'ECAT',\n",
       "        'G15', 'G151', 'G152', 'G153', 'G154', 'G155', 'G156', 'G157',\n",
       "        'G158', 'G159', 'GCAT', 'GCRIM', 'GDEF', 'GDIP', 'GDIS', 'GENT',\n",
       "        'GENV', 'GFAS', 'GHEA', 'GJOB', 'GMIL', 'GOBIT', 'GODD', 'GPOL',\n",
       "        'GPRO', 'GREL', 'GSCI', 'GSPO', 'GTOUR', 'GVIO', 'GVOTE', 'GWEA',\n",
       "        'GWELF', 'M11', 'M12', 'M13', 'M131', 'M132', 'M14', 'M141',\n",
       "        'M142', 'M143', 'MCAT'], dtype=object),\n",
       " 'DESCR': \".. _rcv1_dataset:\\n\\nRCV1 dataset\\n------------\\n\\nReuters Corpus Volume I (RCV1) is an archive of over 800,000 manually \\ncategorized newswire stories made available by Reuters, Ltd. for research \\npurposes. The dataset is extensively described in [1]_.\\n\\n**Data Set Characteristics:**\\n\\n    ==============     =====================\\n    Classes                              103\\n    Samples total                     804414\\n    Dimensionality                     47236\\n    Features           real, between 0 and 1\\n    ==============     =====================\\n\\n:func:`sklearn.datasets.fetch_rcv1` will load the following \\nversion: RCV1-v2, vectors, full sets, topics multilabels::\\n\\n    >>> from sklearn.datasets import fetch_rcv1\\n    >>> rcv1 = fetch_rcv1()\\n\\nIt returns a dictionary-like object, with the following attributes:\\n\\n``data``:\\nThe feature matrix is a scipy CSR sparse matrix, with 804414 samples and\\n47236 features. Non-zero values contains cosine-normalized, log TF-IDF vectors.\\nA nearly chronological split is proposed in [1]_: The first 23149 samples are\\nthe training set. The last 781265 samples are the testing set. This follows \\nthe official LYRL2004 chronological split. The array has 0.16% of non zero \\nvalues::\\n\\n    >>> rcv1.data.shape\\n    (804414, 47236)\\n\\n``target``:\\nThe target values are stored in a scipy CSR sparse matrix, with 804414 samples \\nand 103 categories. Each sample has a value of 1 in its categories, and 0 in \\nothers. The array has 3.15% of non zero values::\\n\\n    >>> rcv1.target.shape\\n    (804414, 103)\\n\\n``sample_id``:\\nEach sample can be identified by its ID, ranging (with gaps) from 2286 \\nto 810596::\\n\\n    >>> rcv1.sample_id[:3]\\n    array([2286, 2287, 2288], dtype=uint32)\\n\\n``target_names``:\\nThe target values are the topics of each sample. Each sample belongs to at \\nleast one topic, and to up to 17 topics. There are 103 topics, each \\nrepresented by a string. Their corpus frequencies span five orders of \\nmagnitude, from 5 occurrences for 'GMIL', to 381327 for 'CCAT'::\\n\\n    >>> rcv1.target_names[:3].tolist()  # doctest: +SKIP\\n    ['E11', 'ECAT', 'M11']\\n\\nThe dataset will be downloaded from the `rcv1 homepage`_ if necessary.\\nThe compressed size is about 656 MB.\\n\\n.. _rcv1 homepage: http://jmlr.csail.mit.edu/papers/volume5/lewis04a/\\n\\n\\n.. topic:: References\\n\\n    .. [1] Lewis, D. D., Yang, Y., Rose, T. G., & Li, F. (2004). \\n           RCV1: A new benchmark collection for text categorization research. \\n           The Journal of Machine Learning Research, 5, 361-397.\\n\"}"
      ]
     },
     "execution_count": 3,
     "metadata": {},
     "output_type": "execute_result"
    }
   ],
   "source": [
    "rcv1"
   ]
  },
  {
   "cell_type": "code",
   "execution_count": 10,
   "metadata": {
    "collapsed": true
   },
   "outputs": [
    {
     "name": "stdout",
     "output_type": "stream",
     "text": [
      "  (0, 863)\t0.0497399253756197\n",
      "  (0, 1522)\t0.044664135988103\n",
      "  (0, 1680)\t0.0673871572152868\n",
      "  (0, 2292)\t0.0718104827746566\n",
      "  (0, 2844)\t0.0657133637266077\n",
      "  (0, 2866)\t0.0653401708076665\n",
      "  (0, 3239)\t0.0795167845321379\n",
      "  (0, 4124)\t0.0423215276156812\n",
      "  (0, 4270)\t0.0691368598826452\n",
      "  (0, 4664)\t0.0500863047167235\n",
      "  (0, 5215)\t0.252185352537681\n",
      "  (0, 5572)\t0.0672561839956375\n",
      "  (0, 5698)\t0.0594998147298331\n",
      "  (0, 5793)\t0.0737821454910533\n",
      "  (0, 6221)\t0.12450060912141\n",
      "  (0, 6591)\t0.101431159576997\n",
      "  (0, 7226)\t0.194090655513477\n",
      "  (0, 7974)\t0.0766400848671463\n",
      "  (0, 8144)\t0.0295331356836656\n",
      "  (0, 8758)\t0.0595662280181838\n",
      "  (0, 8770)\t0.130789753977649\n",
      "  (0, 8900)\t0.052116236521377\n",
      "  (0, 8926)\t0.0367838394252549\n",
      "  (0, 8939)\t0.0479419428634425\n",
      "  (0, 9106)\t0.0533192746608269\n",
      "  :\t:\n",
      "  (804413, 40027)\t0.134992384776206\n",
      "  (804413, 40123)\t0.064727254144766\n",
      "  (804413, 40253)\t0.122924999057456\n",
      "  (804413, 40404)\t0.0830129833067653\n",
      "  (804413, 40424)\t0.0756633647305509\n",
      "  (804413, 40474)\t0.122924999057456\n",
      "  (804413, 40630)\t0.0467888582516604\n",
      "  (804413, 40858)\t0.171888707990866\n",
      "  (804413, 40863)\t0.113782913882023\n",
      "  (804413, 41356)\t0.100026361441092\n",
      "  (804413, 42113)\t0.0940559819550991\n",
      "  (804413, 42247)\t0.223061432129454\n",
      "  (804413, 42276)\t0.0355994513805629\n",
      "  (804413, 42374)\t0.129920652750751\n",
      "  (804413, 42485)\t0.0954356784503608\n",
      "  (804413, 42605)\t0.0731951166611467\n",
      "  (804413, 42840)\t0.0559201972348143\n",
      "  (804413, 42935)\t0.0527833409828069\n",
      "  (804413, 43048)\t0.298015352515672\n",
      "  (804413, 44380)\t0.0692703101269842\n",
      "  (804413, 45469)\t0.0687588061080658\n",
      "  (804413, 45914)\t0.169541558153828\n",
      "  (804413, 45944)\t0.239075662762676\n",
      "  (804413, 46096)\t0.0801046456087101\n",
      "  (804413, 46158)\t0.0387758981260741\n"
     ]
    }
   ],
   "source": [
    "print(rcv1['data'])"
   ]
  },
  {
   "cell_type": "code",
   "execution_count": 36,
   "metadata": {
    "collapsed": true
   },
   "outputs": [
    {
     "name": "stdout",
     "output_type": "stream",
     "text": [
      "  (1, 0)\t1\n",
      "  (2, 0)\t1\n",
      "  (3, 0)\t1\n",
      "  (4, 0)\t1\n",
      "  (7, 0)\t1\n",
      "  (9, 0)\t1\n",
      "  (10, 0)\t1\n",
      "  (13, 0)\t1\n",
      "  (16, 0)\t1\n",
      "  (18, 0)\t1\n",
      "  (19, 0)\t1\n",
      "  (20, 0)\t1\n",
      "  (25, 0)\t1\n",
      "  (27, 0)\t1\n",
      "  (29, 0)\t1\n",
      "  (30, 0)\t1\n",
      "  (31, 0)\t1\n",
      "  (32, 0)\t1\n",
      "  (34, 0)\t1\n",
      "  (35, 0)\t1\n",
      "  (37, 0)\t1\n",
      "  (40, 0)\t1\n",
      "  (41, 0)\t1\n",
      "  (42, 0)\t1\n",
      "  (43, 0)\t1\n",
      "  :\t:\n",
      "  (804377, 0)\t1\n",
      "  (804378, 0)\t1\n",
      "  (804380, 0)\t1\n",
      "  (804381, 0)\t1\n",
      "  (804382, 0)\t1\n",
      "  (804383, 0)\t1\n",
      "  (804384, 0)\t1\n",
      "  (804388, 0)\t1\n",
      "  (804389, 0)\t1\n",
      "  (804390, 0)\t1\n",
      "  (804392, 0)\t1\n",
      "  (804393, 0)\t1\n",
      "  (804394, 0)\t1\n",
      "  (804395, 0)\t1\n",
      "  (804397, 0)\t1\n",
      "  (804398, 0)\t1\n",
      "  (804399, 0)\t1\n",
      "  (804400, 0)\t1\n",
      "  (804403, 0)\t1\n",
      "  (804405, 0)\t1\n",
      "  (804407, 0)\t1\n",
      "  (804408, 0)\t1\n",
      "  (804409, 0)\t1\n",
      "  (804411, 0)\t1\n",
      "  (804412, 0)\t1\n"
     ]
    }
   ],
   "source": [
    "print(rcv1['target'][:,33])"
   ]
  },
  {
   "cell_type": "code",
   "execution_count": 4,
   "metadata": {
    "scrolled": true
   },
   "outputs": [],
   "source": [
    "# do we have ways to simplify the way to find index of row contains 1?\n",
    "aa = rcv1['target'][:,33]\n",
    "kk = list(aa.toarray().reshape(-1,).astype(\"int\"))\n",
    "postive_ind = [i for i, x in enumerate(kk) if x==1]\n",
    "negative_ind = [i for i, x in enumerate(kk) if x==0]"
   ]
  },
  {
   "cell_type": "code",
   "execution_count": 11,
   "metadata": {},
   "outputs": [
    {
     "data": {
      "text/plain": [
       "804414"
      ]
     },
     "execution_count": 11,
     "metadata": {},
     "output_type": "execute_result"
    }
   ],
   "source": [
    "len(postive_ind)+len(negative_ind) # check to see matches the whole matrix rows"
   ]
  },
  {
   "cell_type": "code",
   "execution_count": 12,
   "metadata": {},
   "outputs": [
    {
     "data": {
      "text/plain": [
       "381327"
      ]
     },
     "execution_count": 12,
     "metadata": {},
     "output_type": "execute_result"
    }
   ],
   "source": [
    "len(postive_ind) # roughly 380,000"
   ]
  },
  {
   "cell_type": "code",
   "execution_count": 5,
   "metadata": {},
   "outputs": [],
   "source": [
    "# generate new -1 and 1 target\n",
    "# len(postive_ind)+len(negative_ind) = 804,414\n",
    "new_target = np.ones(804414) #check how long\n",
    "for i in negative_ind:\n",
    "    new_target[i] = -1"
   ]
  },
  {
   "cell_type": "code",
   "execution_count": 32,
   "metadata": {},
   "outputs": [
    {
     "data": {
      "text/plain": [
       "array([-1.,  1.,  1., ...,  1.,  1., -1.])"
      ]
     },
     "execution_count": 32,
     "metadata": {},
     "output_type": "execute_result"
    }
   ],
   "source": [
    "sparse.csr_matrix.tocsr(new_target)"
   ]
  },
  {
   "cell_type": "code",
   "execution_count": 6,
   "metadata": {},
   "outputs": [
    {
     "data": {
      "text/plain": [
       "<804414x47237 sparse matrix of type '<class 'numpy.float64'>'\n",
       "\twith 61719527 stored elements in COOrdinate format>"
      ]
     },
     "execution_count": 6,
     "metadata": {},
     "output_type": "execute_result"
    }
   ],
   "source": [
    "# put the new target back to sparse matrix\n",
    "new_rcv1 = sparse.hstack([rcv1['data'],new_target.reshape(-1,1)])\n",
    "# del new_rcv1['target_names'] # does this work for sparse matrix?\n",
    "# del rcv1['target_names']\n",
    "new_rcv1"
   ]
  },
  {
   "cell_type": "code",
   "execution_count": 10,
   "metadata": {},
   "outputs": [
    {
     "data": {
      "text/plain": [
       "<804414x47237 sparse matrix of type '<class 'numpy.float64'>'\n",
       "\twith 61719527 stored elements in COOrdinate format>"
      ]
     },
     "execution_count": 10,
     "metadata": {},
     "output_type": "execute_result"
    }
   ],
   "source": [
    "sparse.csr_matrix.tocsr(new_rcv1)"
   ]
  },
  {
   "cell_type": "code",
   "execution_count": 25,
   "metadata": {},
   "outputs": [
    {
     "data": {
      "text/plain": [
       "NoneType"
      ]
     },
     "execution_count": 25,
     "metadata": {},
     "output_type": "execute_result"
    }
   ],
   "source": [
    "# np.set_printoptions(threshold=np.nan)\n",
    "# shuffled_ind = np.random.shuffle(np.array(range(new_rcv1.get_shape()[0])))\n",
    "# new_rcv1.tocsr()[shuffled_ind,:]\n",
    "np.random.shuffle(np.array(range(new_rcv1.get_shape()[0]))"
   ]
  },
  {
   "cell_type": "code",
   "execution_count": 32,
   "metadata": {},
   "outputs": [
    {
     "data": {
      "text/plain": [
       "array([0, 3, 2, 5, 6, 7, 9, 1, 4, 8])"
      ]
     },
     "execution_count": 32,
     "metadata": {},
     "output_type": "execute_result"
    }
   ],
   "source": [
    "fucker = np.arange(10)\n",
    "np.random.shuffle(fucker)\n",
    "fucker"
   ]
  },
  {
   "cell_type": "code",
   "execution_count": 17,
   "metadata": {},
   "outputs": [
    {
     "data": {
      "text/plain": [
       "804414"
      ]
     },
     "execution_count": 17,
     "metadata": {},
     "output_type": "execute_result"
    }
   ],
   "source": [
    "shuffled_ind = np.random.shuffle(range(new_rcv1.tocsr().get_shape()[0]))"
   ]
  }
 ],
 "metadata": {
  "kernelspec": {
   "display_name": "Python 3",
   "language": "python",
   "name": "python3"
  },
  "language_info": {
   "codemirror_mode": {
    "name": "ipython",
    "version": 3
   },
   "file_extension": ".py",
   "mimetype": "text/x-python",
   "name": "python",
   "nbconvert_exporter": "python",
   "pygments_lexer": "ipython3",
   "version": "3.6.6"
  }
 },
 "nbformat": 4,
 "nbformat_minor": 2
}
