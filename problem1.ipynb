{
 "cells": [
  {
   "cell_type": "code",
   "execution_count": 1,
   "metadata": {},
   "outputs": [
    {
     "name": "stderr",
     "output_type": "stream",
     "text": [
      "/home/aitrading/anaconda3/lib/python3.6/importlib/_bootstrap.py:219: RuntimeWarning: numpy.dtype size changed, may indicate binary incompatibility. Expected 96, got 88\n",
      "  return f(*args, **kwds)\n",
      "/home/aitrading/anaconda3/lib/python3.6/importlib/_bootstrap.py:219: RuntimeWarning: numpy.dtype size changed, may indicate binary incompatibility. Expected 96, got 88\n",
      "  return f(*args, **kwds)\n",
      "/home/aitrading/anaconda3/lib/python3.6/importlib/_bootstrap.py:219: RuntimeWarning: numpy.dtype size changed, may indicate binary incompatibility. Expected 96, got 88\n",
      "  return f(*args, **kwds)\n",
      "/home/aitrading/anaconda3/lib/python3.6/importlib/_bootstrap.py:219: RuntimeWarning: numpy.dtype size changed, may indicate binary incompatibility. Expected 96, got 88\n",
      "  return f(*args, **kwds)\n"
     ]
    }
   ],
   "source": [
    "from sklearn.datasets import fetch_rcv1\n",
    "rcv1 = fetch_rcv1()"
   ]
  },
  {
   "cell_type": "code",
   "execution_count": 11,
   "metadata": {},
   "outputs": [
    {
     "data": {
      "text/plain": [
       "{'DESCR': 'RCV1 dataset.\\n',\n",
       " 'data': <804414x47236 sparse matrix of type '<class 'numpy.float64'>'\n",
       " \twith 60915113 stored elements in Compressed Sparse Row format>,\n",
       " 'sample_id': array([  2286,   2287,   2288, ..., 810594, 810595, 810596], dtype=uint32),\n",
       " 'target': <804414x103 sparse matrix of type '<class 'numpy.uint8'>'\n",
       " \twith 2606875 stored elements in Compressed Sparse Row format>,\n",
       " 'target_names': array(['C11', 'C12', 'C13', 'C14', 'C15', 'C151', 'C1511', 'C152', 'C16',\n",
       "        'C17', 'C171', 'C172', 'C173', 'C174', 'C18', 'C181', 'C182',\n",
       "        'C183', 'C21', 'C22', 'C23', 'C24', 'C31', 'C311', 'C312', 'C313',\n",
       "        'C32', 'C33', 'C331', 'C34', 'C41', 'C411', 'C42', 'CCAT', 'E11',\n",
       "        'E12', 'E121', 'E13', 'E131', 'E132', 'E14', 'E141', 'E142',\n",
       "        'E143', 'E21', 'E211', 'E212', 'E31', 'E311', 'E312', 'E313',\n",
       "        'E41', 'E411', 'E51', 'E511', 'E512', 'E513', 'E61', 'E71', 'ECAT',\n",
       "        'G15', 'G151', 'G152', 'G153', 'G154', 'G155', 'G156', 'G157',\n",
       "        'G158', 'G159', 'GCAT', 'GCRIM', 'GDEF', 'GDIP', 'GDIS', 'GENT',\n",
       "        'GENV', 'GFAS', 'GHEA', 'GJOB', 'GMIL', 'GOBIT', 'GODD', 'GPOL',\n",
       "        'GPRO', 'GREL', 'GSCI', 'GSPO', 'GTOUR', 'GVIO', 'GVOTE', 'GWEA',\n",
       "        'GWELF', 'M11', 'M12', 'M13', 'M131', 'M132', 'M14', 'M141',\n",
       "        'M142', 'M143', 'MCAT'], dtype=object)}"
      ]
     },
     "execution_count": 11,
     "metadata": {},
     "output_type": "execute_result"
    }
   ],
   "source": [
    "rcv1"
   ]
  },
  {
   "cell_type": "code",
   "execution_count": 10,
   "metadata": {
    "scrolled": true
   },
   "outputs": [
    {
     "name": "stdout",
     "output_type": "stream",
     "text": [
      "  (0, 863)\t0.0497399253756197\n",
      "  (0, 1522)\t0.044664135988103\n",
      "  (0, 1680)\t0.0673871572152868\n",
      "  (0, 2292)\t0.0718104827746566\n",
      "  (0, 2844)\t0.0657133637266077\n",
      "  (0, 2866)\t0.0653401708076665\n",
      "  (0, 3239)\t0.0795167845321379\n",
      "  (0, 4124)\t0.0423215276156812\n",
      "  (0, 4270)\t0.0691368598826452\n",
      "  (0, 4664)\t0.0500863047167235\n",
      "  (0, 5215)\t0.252185352537681\n",
      "  (0, 5572)\t0.0672561839956375\n",
      "  (0, 5698)\t0.0594998147298331\n",
      "  (0, 5793)\t0.0737821454910533\n",
      "  (0, 6221)\t0.12450060912141\n",
      "  (0, 6591)\t0.101431159576997\n",
      "  (0, 7226)\t0.194090655513477\n",
      "  (0, 7974)\t0.0766400848671463\n",
      "  (0, 8144)\t0.0295331356836656\n",
      "  (0, 8758)\t0.0595662280181838\n",
      "  (0, 8770)\t0.130789753977649\n",
      "  (0, 8900)\t0.052116236521377\n",
      "  (0, 8926)\t0.0367838394252549\n",
      "  (0, 8939)\t0.0479419428634425\n",
      "  (0, 9106)\t0.0533192746608269\n",
      "  :\t:\n",
      "  (804413, 40027)\t0.134992384776206\n",
      "  (804413, 40123)\t0.064727254144766\n",
      "  (804413, 40253)\t0.122924999057456\n",
      "  (804413, 40404)\t0.0830129833067653\n",
      "  (804413, 40424)\t0.0756633647305509\n",
      "  (804413, 40474)\t0.122924999057456\n",
      "  (804413, 40630)\t0.0467888582516604\n",
      "  (804413, 40858)\t0.171888707990866\n",
      "  (804413, 40863)\t0.113782913882023\n",
      "  (804413, 41356)\t0.100026361441092\n",
      "  (804413, 42113)\t0.0940559819550991\n",
      "  (804413, 42247)\t0.223061432129454\n",
      "  (804413, 42276)\t0.0355994513805629\n",
      "  (804413, 42374)\t0.129920652750751\n",
      "  (804413, 42485)\t0.0954356784503608\n",
      "  (804413, 42605)\t0.0731951166611467\n",
      "  (804413, 42840)\t0.0559201972348143\n",
      "  (804413, 42935)\t0.0527833409828069\n",
      "  (804413, 43048)\t0.298015352515672\n",
      "  (804413, 44380)\t0.0692703101269842\n",
      "  (804413, 45469)\t0.0687588061080658\n",
      "  (804413, 45914)\t0.169541558153828\n",
      "  (804413, 45944)\t0.239075662762676\n",
      "  (804413, 46096)\t0.0801046456087101\n",
      "  (804413, 46158)\t0.0387758981260741\n"
     ]
    }
   ],
   "source": [
    "print(rcv1['data'])"
   ]
  },
  {
   "cell_type": "code",
   "execution_count": 36,
   "metadata": {
    "scrolled": true
   },
   "outputs": [
    {
     "name": "stdout",
     "output_type": "stream",
     "text": [
      "  (1, 0)\t1\n",
      "  (2, 0)\t1\n",
      "  (3, 0)\t1\n",
      "  (4, 0)\t1\n",
      "  (7, 0)\t1\n",
      "  (9, 0)\t1\n",
      "  (10, 0)\t1\n",
      "  (13, 0)\t1\n",
      "  (16, 0)\t1\n",
      "  (18, 0)\t1\n",
      "  (19, 0)\t1\n",
      "  (20, 0)\t1\n",
      "  (25, 0)\t1\n",
      "  (27, 0)\t1\n",
      "  (29, 0)\t1\n",
      "  (30, 0)\t1\n",
      "  (31, 0)\t1\n",
      "  (32, 0)\t1\n",
      "  (34, 0)\t1\n",
      "  (35, 0)\t1\n",
      "  (37, 0)\t1\n",
      "  (40, 0)\t1\n",
      "  (41, 0)\t1\n",
      "  (42, 0)\t1\n",
      "  (43, 0)\t1\n",
      "  :\t:\n",
      "  (804377, 0)\t1\n",
      "  (804378, 0)\t1\n",
      "  (804380, 0)\t1\n",
      "  (804381, 0)\t1\n",
      "  (804382, 0)\t1\n",
      "  (804383, 0)\t1\n",
      "  (804384, 0)\t1\n",
      "  (804388, 0)\t1\n",
      "  (804389, 0)\t1\n",
      "  (804390, 0)\t1\n",
      "  (804392, 0)\t1\n",
      "  (804393, 0)\t1\n",
      "  (804394, 0)\t1\n",
      "  (804395, 0)\t1\n",
      "  (804397, 0)\t1\n",
      "  (804398, 0)\t1\n",
      "  (804399, 0)\t1\n",
      "  (804400, 0)\t1\n",
      "  (804403, 0)\t1\n",
      "  (804405, 0)\t1\n",
      "  (804407, 0)\t1\n",
      "  (804408, 0)\t1\n",
      "  (804409, 0)\t1\n",
      "  (804411, 0)\t1\n",
      "  (804412, 0)\t1\n"
     ]
    }
   ],
   "source": [
    "print(rcv1['target'][:,33])"
   ]
  },
  {
   "cell_type": "code",
   "execution_count": 1,
   "metadata": {
    "scrolled": true
   },
   "outputs": [
    {
     "ename": "NameError",
     "evalue": "name 'rcv1' is not defined",
     "output_type": "error",
     "traceback": [
      "\u001b[0;31m---------------------------------------------------------------------------\u001b[0m",
      "\u001b[0;31mNameError\u001b[0m                                 Traceback (most recent call last)",
      "\u001b[0;32m<ipython-input-1-ab2ed42ac6a8>\u001b[0m in \u001b[0;36m<module>\u001b[0;34m()\u001b[0m\n\u001b[1;32m      1\u001b[0m \u001b[0;31m# do we have ways to simplify the way to find index of row contains 1?\u001b[0m\u001b[0;34m\u001b[0m\u001b[0;34m\u001b[0m\u001b[0m\n\u001b[0;32m----> 2\u001b[0;31m \u001b[0maa\u001b[0m \u001b[0;34m=\u001b[0m \u001b[0mrcv1\u001b[0m\u001b[0;34m[\u001b[0m\u001b[0;34m'target'\u001b[0m\u001b[0;34m]\u001b[0m\u001b[0;34m[\u001b[0m\u001b[0;34m:\u001b[0m\u001b[0;34m,\u001b[0m\u001b[0;36m33\u001b[0m\u001b[0;34m]\u001b[0m\u001b[0;34m\u001b[0m\u001b[0m\n\u001b[0m\u001b[1;32m      3\u001b[0m \u001b[0mkk\u001b[0m \u001b[0;34m=\u001b[0m \u001b[0mlist\u001b[0m\u001b[0;34m(\u001b[0m\u001b[0maa\u001b[0m\u001b[0;34m.\u001b[0m\u001b[0mtoarray\u001b[0m\u001b[0;34m(\u001b[0m\u001b[0;34m)\u001b[0m\u001b[0;34m.\u001b[0m\u001b[0mreshape\u001b[0m\u001b[0;34m(\u001b[0m\u001b[0;34m-\u001b[0m\u001b[0;36m1\u001b[0m\u001b[0;34m,\u001b[0m\u001b[0;34m)\u001b[0m\u001b[0;34m.\u001b[0m\u001b[0mastype\u001b[0m\u001b[0;34m(\u001b[0m\u001b[0;34m\"int\"\u001b[0m\u001b[0;34m)\u001b[0m\u001b[0;34m)\u001b[0m\u001b[0;34m\u001b[0m\u001b[0m\n\u001b[1;32m      4\u001b[0m \u001b[0mpostive_ind\u001b[0m \u001b[0;34m=\u001b[0m \u001b[0;34m[\u001b[0m\u001b[0mi\u001b[0m \u001b[0;32mfor\u001b[0m \u001b[0mi\u001b[0m\u001b[0;34m,\u001b[0m \u001b[0mx\u001b[0m \u001b[0;32min\u001b[0m \u001b[0menumerate\u001b[0m\u001b[0;34m(\u001b[0m\u001b[0mkk\u001b[0m\u001b[0;34m)\u001b[0m \u001b[0;32mif\u001b[0m \u001b[0mx\u001b[0m\u001b[0;34m==\u001b[0m\u001b[0;36m1\u001b[0m\u001b[0;34m]\u001b[0m\u001b[0;34m\u001b[0m\u001b[0m\n\u001b[1;32m      5\u001b[0m \u001b[0mnegative_ind\u001b[0m \u001b[0;34m=\u001b[0m \u001b[0;34m[\u001b[0m\u001b[0mi\u001b[0m \u001b[0;32mfor\u001b[0m \u001b[0mi\u001b[0m\u001b[0;34m,\u001b[0m \u001b[0mx\u001b[0m \u001b[0;32min\u001b[0m \u001b[0menumerate\u001b[0m\u001b[0;34m(\u001b[0m\u001b[0mkk\u001b[0m\u001b[0;34m)\u001b[0m \u001b[0;32mif\u001b[0m \u001b[0mx\u001b[0m\u001b[0;34m==\u001b[0m\u001b[0;36m0\u001b[0m\u001b[0;34m]\u001b[0m\u001b[0;34m\u001b[0m\u001b[0m\n",
      "\u001b[0;31mNameError\u001b[0m: name 'rcv1' is not defined"
     ]
    }
   ],
   "source": [
    "# do we have ways to simplify the way to find index of row contains 1?\n",
    "aa = rcv1['target'][:,33]\n",
    "kk = list(aa.toarray().reshape(-1,).astype(\"int\"))\n",
    "postive_ind = [i for i, x in enumerate(kk) if x==1]\n",
    "negative_ind = [i for i, x in enumerate(kk) if x==0]"
   ]
  },
  {
   "cell_type": "code",
   "execution_count": null,
   "metadata": {},
   "outputs": [],
   "source": [
    "len(postive_ind)+len(negative_ind) # check to see matches the whole matrix rows"
   ]
  },
  {
   "cell_type": "code",
   "execution_count": null,
   "metadata": {},
   "outputs": [],
   "source": [
    "len(postive_ind) # roughly 380,000"
   ]
  },
  {
   "cell_type": "code",
   "execution_count": null,
   "metadata": {},
   "outputs": [],
   "source": [
    "# generate new -1 and 1 target\n",
    "new_target = np.ones(xxx) #check how long\n",
    "for i in negative_ind:\n",
    "    new_target[i] = -1"
   ]
  },
  {
   "cell_type": "code",
   "execution_count": null,
   "metadata": {},
   "outputs": [],
   "source": [
    "# put the new target back to sparse matrix\n",
    "new_rcv1 = sparse.hstack((rcv1,new_target)[:,None])\n",
    "del new_rcv1['target_names'] # does this work for sparse matrix?\n",
    "new_rcv1"
   ]
  }
 ],
 "metadata": {
  "kernelspec": {
   "display_name": "Python 3",
   "language": "python",
   "name": "python3"
  },
  "language_info": {
   "codemirror_mode": {
    "name": "ipython",
    "version": 3
   },
   "file_extension": ".py",
   "mimetype": "text/x-python",
   "name": "python",
   "nbconvert_exporter": "python",
   "pygments_lexer": "ipython3",
   "version": "3.6.4"
  }
 },
 "nbformat": 4,
 "nbformat_minor": 2
}
